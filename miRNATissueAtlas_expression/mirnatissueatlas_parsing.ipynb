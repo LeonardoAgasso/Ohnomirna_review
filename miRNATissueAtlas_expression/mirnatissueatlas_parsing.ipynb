{
 "cells": [
  {
   "cell_type": "code",
   "execution_count": 1,
   "id": "76e52cc0",
   "metadata": {},
   "outputs": [],
   "source": [
    "import pandas as pd\n",
    "import scanpy as sc"
   ]
  },
  {
   "cell_type": "markdown",
   "id": "a50dbe3f",
   "metadata": {},
   "source": [
    "_______________________________"
   ]
  },
  {
   "cell_type": "markdown",
   "id": "c1f968f3",
   "metadata": {},
   "source": [
    "### Parquet files to csv"
   ]
  },
  {
   "cell_type": "code",
   "execution_count": null,
   "id": "31a60c02",
   "metadata": {},
   "outputs": [],
   "source": [
    "df_avg = pd.read_parquet(\"./all_human_miRNA_rpmm_harmonized_meta_data.parquet\")\n",
    "df_avg = df_avg.transpose()\n",
    "df_avg.to_csv(\"./all_human_miRNA_rpmm_harmonized_meta_data.csv\", sep=\"\\t\", index=True)"
   ]
  },
  {
   "cell_type": "code",
   "execution_count": 3,
   "id": "19532269",
   "metadata": {},
   "outputs": [],
   "source": [
    "df = pd.read_parquet(\"./hsa_harmonized_meta_data.parquet\")\n",
    "df.to_csv(\"./hsa_harmonized_meta_data.csv\", sep=\"\\t\", index=True)"
   ]
  },
  {
   "cell_type": "markdown",
   "id": "aa2d67ce",
   "metadata": {},
   "source": [
    "_____________________________"
   ]
  },
  {
   "cell_type": "markdown",
   "id": "f3340701",
   "metadata": {},
   "source": [
    "### Explore h5ad file"
   ]
  },
  {
   "cell_type": "code",
   "execution_count": 7,
   "id": "e2173444",
   "metadata": {},
   "outputs": [
    {
     "name": "stdout",
     "output_type": "stream",
     "text": [
      "Shape of adata: (46997, 2656)\n"
     ]
    }
   ],
   "source": [
    "h5ad_path = './all_human_miRNA_rpmm_harmonized_meta_data.h5ad'\n",
    "adata = sc.read_h5ad(h5ad_path)\n",
    "print(\"Shape of adata:\", adata.shape)"
   ]
  },
  {
   "cell_type": "code",
   "execution_count": 8,
   "id": "4d918633",
   "metadata": {},
   "outputs": [
    {
     "data": {
      "text/html": [
       "<div>\n",
       "<style scoped>\n",
       "    .dataframe tbody tr th:only-of-type {\n",
       "        vertical-align: middle;\n",
       "    }\n",
       "\n",
       "    .dataframe tbody tr th {\n",
       "        vertical-align: top;\n",
       "    }\n",
       "\n",
       "    .dataframe thead th {\n",
       "        text-align: right;\n",
       "    }\n",
       "</style>\n",
       "<table border=\"1\" class=\"dataframe\">\n",
       "  <thead>\n",
       "    <tr style=\"text-align: right;\">\n",
       "      <th></th>\n",
       "      <th>Biotype</th>\n",
       "      <th>Tissue</th>\n",
       "      <th>Organ_system</th>\n",
       "      <th>Project</th>\n",
       "      <th>Sex</th>\n",
       "      <th>Species</th>\n",
       "    </tr>\n",
       "  </thead>\n",
       "  <tbody>\n",
       "    <tr>\n",
       "      <th>5628-SL-3674</th>\n",
       "      <td>tissue</td>\n",
       "      <td>blood</td>\n",
       "      <td>blood</td>\n",
       "      <td>PPMI</td>\n",
       "      <td>m</td>\n",
       "      <td>hsa</td>\n",
       "    </tr>\n",
       "    <tr>\n",
       "      <th>SRR3624071</th>\n",
       "      <td>cell_line</td>\n",
       "      <td>colon</td>\n",
       "      <td>bowel</td>\n",
       "      <td>SRA</td>\n",
       "      <td>u</td>\n",
       "      <td>hsa</td>\n",
       "    </tr>\n",
       "    <tr>\n",
       "      <th>SRR14749901</th>\n",
       "      <td>tissue</td>\n",
       "      <td>liver</td>\n",
       "      <td>liver</td>\n",
       "      <td>SRA</td>\n",
       "      <td>u</td>\n",
       "      <td>hsa</td>\n",
       "    </tr>\n",
       "    <tr>\n",
       "      <th>ERR1039452</th>\n",
       "      <td>tissue</td>\n",
       "      <td>brain</td>\n",
       "      <td>brain</td>\n",
       "      <td>SRA</td>\n",
       "      <td>u</td>\n",
       "      <td>hsa</td>\n",
       "    </tr>\n",
       "    <tr>\n",
       "      <th>SRR9130037</th>\n",
       "      <td>cell_line</td>\n",
       "      <td>CFBE</td>\n",
       "      <td>bronchus</td>\n",
       "      <td>SRA</td>\n",
       "      <td>u</td>\n",
       "      <td>hsa</td>\n",
       "    </tr>\n",
       "    <tr>\n",
       "      <th>...</th>\n",
       "      <td>...</td>\n",
       "      <td>...</td>\n",
       "      <td>...</td>\n",
       "      <td>...</td>\n",
       "      <td>...</td>\n",
       "      <td>...</td>\n",
       "    </tr>\n",
       "    <tr>\n",
       "      <th>SRR19052519</th>\n",
       "      <td>tissue</td>\n",
       "      <td>skin</td>\n",
       "      <td>skin</td>\n",
       "      <td>SRA</td>\n",
       "      <td>u</td>\n",
       "      <td>hsa</td>\n",
       "    </tr>\n",
       "    <tr>\n",
       "      <th>SRR15687456</th>\n",
       "      <td>tissue</td>\n",
       "      <td>plasma</td>\n",
       "      <td>blood</td>\n",
       "      <td>SRA</td>\n",
       "      <td>u</td>\n",
       "      <td>hsa</td>\n",
       "    </tr>\n",
       "    <tr>\n",
       "      <th>SRR4035207</th>\n",
       "      <td>tissue</td>\n",
       "      <td>kidney</td>\n",
       "      <td>kidney</td>\n",
       "      <td>SRA</td>\n",
       "      <td>m</td>\n",
       "      <td>hsa</td>\n",
       "    </tr>\n",
       "    <tr>\n",
       "      <th>SRR2487648</th>\n",
       "      <td>tissue</td>\n",
       "      <td>ccRCC</td>\n",
       "      <td>kidney</td>\n",
       "      <td>SRA</td>\n",
       "      <td>m</td>\n",
       "      <td>hsa</td>\n",
       "    </tr>\n",
       "    <tr>\n",
       "      <th>SRR5756044</th>\n",
       "      <td>tissue</td>\n",
       "      <td>blood</td>\n",
       "      <td>blood</td>\n",
       "      <td>SRA</td>\n",
       "      <td>m</td>\n",
       "      <td>hsa</td>\n",
       "    </tr>\n",
       "  </tbody>\n",
       "</table>\n",
       "<p>46997 rows × 6 columns</p>\n",
       "</div>"
      ],
      "text/plain": [
       "                Biotype  Tissue Organ_system Project Sex Species\n",
       "5628-SL-3674     tissue   blood        blood    PPMI   m     hsa\n",
       "SRR3624071    cell_line   colon        bowel     SRA   u     hsa\n",
       "SRR14749901      tissue   liver        liver     SRA   u     hsa\n",
       "ERR1039452       tissue   brain        brain     SRA   u     hsa\n",
       "SRR9130037    cell_line    CFBE     bronchus     SRA   u     hsa\n",
       "...                 ...     ...          ...     ...  ..     ...\n",
       "SRR19052519      tissue    skin         skin     SRA   u     hsa\n",
       "SRR15687456      tissue  plasma        blood     SRA   u     hsa\n",
       "SRR4035207       tissue  kidney       kidney     SRA   m     hsa\n",
       "SRR2487648       tissue   ccRCC       kidney     SRA   m     hsa\n",
       "SRR5756044       tissue   blood        blood     SRA   m     hsa\n",
       "\n",
       "[46997 rows x 6 columns]"
      ]
     },
     "execution_count": 8,
     "metadata": {},
     "output_type": "execute_result"
    }
   ],
   "source": [
    "adata.obs"
   ]
  },
  {
   "cell_type": "code",
   "execution_count": 9,
   "id": "6203ed43",
   "metadata": {},
   "outputs": [
    {
     "data": {
      "text/html": [
       "<div>\n",
       "<style scoped>\n",
       "    .dataframe tbody tr th:only-of-type {\n",
       "        vertical-align: middle;\n",
       "    }\n",
       "\n",
       "    .dataframe tbody tr th {\n",
       "        vertical-align: top;\n",
       "    }\n",
       "\n",
       "    .dataframe thead th {\n",
       "        text-align: right;\n",
       "    }\n",
       "</style>\n",
       "<table border=\"1\" class=\"dataframe\">\n",
       "  <thead>\n",
       "    <tr style=\"text-align: right;\">\n",
       "      <th></th>\n",
       "    </tr>\n",
       "  </thead>\n",
       "  <tbody>\n",
       "    <tr>\n",
       "      <th>hsa-let-7a-2-3p</th>\n",
       "    </tr>\n",
       "    <tr>\n",
       "      <th>hsa-let-7a-3p</th>\n",
       "    </tr>\n",
       "    <tr>\n",
       "      <th>hsa-let-7a-5p</th>\n",
       "    </tr>\n",
       "    <tr>\n",
       "      <th>hsa-let-7b-3p</th>\n",
       "    </tr>\n",
       "    <tr>\n",
       "      <th>hsa-let-7b-5p</th>\n",
       "    </tr>\n",
       "    <tr>\n",
       "      <th>...</th>\n",
       "    </tr>\n",
       "    <tr>\n",
       "      <th>hsa-miR-9986</th>\n",
       "    </tr>\n",
       "    <tr>\n",
       "      <th>hsa-miR-99a-3p</th>\n",
       "    </tr>\n",
       "    <tr>\n",
       "      <th>hsa-miR-99a-5p</th>\n",
       "    </tr>\n",
       "    <tr>\n",
       "      <th>hsa-miR-99b-3p</th>\n",
       "    </tr>\n",
       "    <tr>\n",
       "      <th>hsa-miR-99b-5p</th>\n",
       "    </tr>\n",
       "  </tbody>\n",
       "</table>\n",
       "<p>2656 rows × 0 columns</p>\n",
       "</div>"
      ],
      "text/plain": [
       "Empty DataFrame\n",
       "Columns: []\n",
       "Index: [hsa-let-7a-2-3p, hsa-let-7a-3p, hsa-let-7a-5p, hsa-let-7b-3p, hsa-let-7b-5p, hsa-let-7c-3p, hsa-let-7c-5p, hsa-let-7d-3p, hsa-let-7d-5p, hsa-let-7e-3p, hsa-let-7e-5p, hsa-let-7f-1-3p, hsa-let-7f-2-3p, hsa-let-7f-5p, hsa-let-7g-3p, hsa-let-7g-5p, hsa-let-7i-3p, hsa-let-7i-5p, hsa-miR-1-3p, hsa-miR-1-5p, hsa-miR-100-3p, hsa-miR-100-5p, hsa-miR-101-2-5p, hsa-miR-101-3p, hsa-miR-101-5p, hsa-miR-10226, hsa-miR-10392-3p, hsa-miR-10392-5p, hsa-miR-10393-3p, hsa-miR-10393-5p, hsa-miR-10394-3p, hsa-miR-10394-5p, hsa-miR-10395-3p, hsa-miR-10395-5p, hsa-miR-10396a-3p, hsa-miR-10396a-5p, hsa-miR-10396b-3p, hsa-miR-10396b-5p, hsa-miR-10397-3p, hsa-miR-10397-5p, hsa-miR-10398-3p, hsa-miR-10398-5p, hsa-miR-10399-3p, hsa-miR-10399-5p, hsa-miR-103a-1-5p, hsa-miR-103a-2-5p, hsa-miR-103a-3p, hsa-miR-103b, hsa-miR-10400-3p, hsa-miR-10400-5p, hsa-miR-10401-3p, hsa-miR-10401-5p, hsa-miR-105-3p, hsa-miR-105-5p, hsa-miR-10522-5p, hsa-miR-10523-5p, hsa-miR-10524-5p, hsa-miR-10525-3p, hsa-miR-10526-3p, hsa-miR-10527-5p, hsa-miR-106a-3p, hsa-miR-106a-5p, hsa-miR-106b-3p, hsa-miR-106b-5p, hsa-miR-107, hsa-miR-10a-3p, hsa-miR-10a-5p, hsa-miR-10b-3p, hsa-miR-10b-5p, hsa-miR-11181-3p, hsa-miR-11181-5p, hsa-miR-11399, hsa-miR-11400, hsa-miR-11401, hsa-miR-1178-3p, hsa-miR-1178-5p, hsa-miR-1179, hsa-miR-1180-3p, hsa-miR-1180-5p, hsa-miR-1181, hsa-miR-1182, hsa-miR-1183, hsa-miR-1184, hsa-miR-1185-1-3p, hsa-miR-1185-2-3p, hsa-miR-1185-5p, hsa-miR-1193, hsa-miR-1197, hsa-miR-1199-3p, hsa-miR-1199-5p, hsa-miR-1200, hsa-miR-1202, hsa-miR-1203, hsa-miR-1204, hsa-miR-1205, hsa-miR-1206, hsa-miR-1207-3p, hsa-miR-1207-5p, hsa-miR-1208, hsa-miR-12113, ...]\n",
       "\n",
       "[2656 rows x 0 columns]"
      ]
     },
     "execution_count": 9,
     "metadata": {},
     "output_type": "execute_result"
    }
   ],
   "source": [
    "adata.var"
   ]
  },
  {
   "cell_type": "markdown",
   "id": "89891e9f",
   "metadata": {},
   "source": [
    "____________________________"
   ]
  }
 ],
 "metadata": {
  "kernelspec": {
   "display_name": "OhnomirnaEnv",
   "language": "python",
   "name": "python3"
  },
  "language_info": {
   "codemirror_mode": {
    "name": "ipython",
    "version": 3
   },
   "file_extension": ".py",
   "mimetype": "text/x-python",
   "name": "python",
   "nbconvert_exporter": "python",
   "pygments_lexer": "ipython3",
   "version": "3.10.13"
  }
 },
 "nbformat": 4,
 "nbformat_minor": 5
}
