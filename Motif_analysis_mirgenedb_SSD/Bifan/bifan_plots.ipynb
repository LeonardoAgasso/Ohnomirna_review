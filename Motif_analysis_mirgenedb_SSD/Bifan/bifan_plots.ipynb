{
 "cells": [
  {
   "cell_type": "code",
   "execution_count": 1,
   "id": "5c84d629",
   "metadata": {},
   "outputs": [],
   "source": [
    "import pandas as pd\n",
    "import numpy as np\n",
    "import matplotlib.pyplot as plt\n",
    "from scipy import stats"
   ]
  },
  {
   "cell_type": "markdown",
   "id": "0a620171",
   "metadata": {},
   "source": [
    "______________________________"
   ]
  },
  {
   "cell_type": "code",
   "execution_count": null,
   "id": "b6553803",
   "metadata": {},
   "outputs": [],
   "source": [
    "network = 'tarbase'\n",
    "target_homology = 'mixed'\n",
    "\n",
    "remove_SSD_pre_2R = True\n",
    "keep_SSD_pre_2R = False\n",
    "\n",
    "if remove_SSD_pre_2R and keep_SSD_pre_2R:\n",
    "\traise ValueError(\"Cannot both remove and keep pre-2R SSD pairs. Choose one option or remove both.\")\n",
    "\n",
    "if remove_SSD_pre_2R:\n",
    "\ts = 'post_2R'\n",
    "elif keep_SSD_pre_2R:\n",
    "\ts = 'pre_2R'\n",
    "else:\n",
    "\ts = ''"
   ]
  },
  {
   "cell_type": "code",
   "execution_count": 151,
   "id": "05df20e5",
   "metadata": {},
   "outputs": [],
   "source": [
    "if target_homology == 'wgd':\n",
    "\tfile_path_1 = f'./output/{network}_om.z_1000.tsv'\n",
    "\tfile_path_2 = f'./output/{network}_pm_mixed.z_1000.tsv'\n",
    "elif target_homology == 'ssd':\n",
    "\tfile_path_1 = f'./output/{network}_om_mixed.z_1000.tsv'\n",
    "\tfile_path_2 = f'./output/{network}_pm.z_1000.tsv'\n",
    "elif target_homology == 'mix':\n",
    "\tfile_path_1 = f'./output/{network}_om.z_1000.tsv'\n",
    "\tfile_path_2 = f'./output/{network}_pm.z_1000.tsv'\n",
    "else:\n",
    "\traise ValueError(\"target_homology must be either 'wgd', 'ssd' or 'mix'\")\n",
    "\n",
    "df_1 = pd.read_csv(file_path_1, sep='\\t', header=0)\n",
    "df_2 = pd.read_csv(file_path_2, sep='\\t', header=0)"
   ]
  },
  {
   "cell_type": "code",
   "execution_count": 152,
   "id": "36e47202",
   "metadata": {},
   "outputs": [],
   "source": [
    "mirna_origin_file_path = '../../MirGeneDB_miRNA_origin/hsa_mirgenedb3.0_to_everything.mirna_origin.tsv'\n",
    "df_mirna_origin = pd.read_csv(mirna_origin_file_path, sep='\\t', header=None)\n",
    "# keep only columns 8,14,15 and remove duplicates\n",
    "df_mirna_origin = df_mirna_origin[[8, 14, 15]]\n",
    "df_mirna_origin = df_mirna_origin.drop_duplicates()\n",
    "cols = [\"miRNA\", \"locus_node_of_origin\", \"family_node_of_origin\"]\n",
    "df_mirna_origin.columns = cols\n",
    "df_mirna_origin\n",
    "\n",
    "mirna_lno_dict = {}\n",
    "for index, row in df_mirna_origin.iterrows():\n",
    "\tmirna = row['miRNA']\n",
    "\tlno = row['family_node_of_origin']\n",
    "\tif mirna not in mirna_lno_dict:\n",
    "\t\tmirna_lno_dict[mirna] = []\n",
    "\tmirna_lno_dict[mirna].append(lno)"
   ]
  },
  {
   "cell_type": "code",
   "execution_count": 153,
   "id": "d66b20b0",
   "metadata": {},
   "outputs": [],
   "source": [
    "ordered_lca = {\n",
    "\t'Eumetazoa': 0,\n",
    "\t'Bilateria': 1,\n",
    "\t'Nephrozoa': 2,\n",
    "\t'Chordata': 3,\n",
    "\t'Olfactores': 4,\n",
    "\t'Vertebrata': 5,\n",
    "\t'Gnathostomata': 6,\n",
    "\t'Osteichthyes': 7,\n",
    "\t'Euteleostomi': 8,\n",
    "\t'Sarcopterygii': 9,\n",
    "\t'Tetrapoda': 10,\n",
    "\t'Amniota': 11,\n",
    "\t'Mammalia': 12,\n",
    "\t'Theria': 13,\n",
    "\t'Eutheria': 14,\n",
    "\t'Boroeutheria': 15,\n",
    "\t'Euarchontoglires': 16,\n",
    "\t'Primates': 17,\n",
    "\t'Simiiformes': 18,\n",
    "\t'Catarrhini': 19,\n",
    "\t'Hominidae': 20,\n",
    "\t'H. sapiens': 21\n",
    "}\n",
    "\n",
    "reverted_ordered_lca = {v: k for k, v in ordered_lca.items()}"
   ]
  },
  {
   "cell_type": "code",
   "execution_count": 154,
   "id": "ae8fbe21",
   "metadata": {},
   "outputs": [],
   "source": [
    "def add_lca(df):\n",
    "    def compute_max_lca(miRNA):\n",
    "        # If the miRNA value itself is NaN/null, skip immediately\n",
    "        if pd.isna(miRNA):\n",
    "            return -1\n",
    "        # Look up its list of lno’s; if that’s not a list/tuple, treat as empty\n",
    "        lno_list = mirna_lno_dict.get(miRNA, [])\n",
    "        if not isinstance(lno_list, (list, tuple)):\n",
    "            return -1\n",
    "        # Map to ordered_lca values and take the max (or -1 if empty)\n",
    "        return max((ordered_lca.get(lno, -1) for lno in lno_list), default=-1)\n",
    "\n",
    "    # Compute temporary numeric LCA codes\n",
    "    df['lca_1'] = df['miRNA_1'].apply(compute_max_lca)\n",
    "    df['lca_2'] = df['miRNA_2'].apply(compute_max_lca)\n",
    "    # Take the row-wise max\n",
    "    df['lca_code'] = df[['lca_1', 'lca_2']].max(axis=1)\n",
    "    df = df.drop(columns=['lca_1', 'lca_2'])\n",
    "    # Map back to the label (or “Unknown”)\n",
    "    df['lca'] = df['lca_code'].apply(\n",
    "        lambda code: reverted_ordered_lca.get(code, 'Unknown')\n",
    "    )\n",
    "    return df"
   ]
  },
  {
   "cell_type": "code",
   "execution_count": null,
   "id": "80f75656",
   "metadata": {},
   "outputs": [],
   "source": [
    "df_wgd = df_1\n",
    "df_ssd = df_2\n",
    "\n",
    "df_wgd_lca = add_lca(df_wgd)\n",
    "df_ssd_lca = add_lca(df_ssd)"
   ]
  },
  {
   "cell_type": "code",
   "execution_count": 158,
   "id": "850642e4",
   "metadata": {},
   "outputs": [
    {
     "name": "stdout",
     "output_type": "stream",
     "text": [
      "Number of WGD pairs:  113\n",
      "Number of SSD pairs:  1383\n"
     ]
    }
   ],
   "source": [
    "print(\"Number of WGD pairs: \", len(df_wgd_lca))\n",
    "print(\"Number of SSD pairs: \", len(df_ssd_lca))"
   ]
  },
  {
   "cell_type": "code",
   "execution_count": 159,
   "id": "686530e7",
   "metadata": {},
   "outputs": [
    {
     "name": "stdout",
     "output_type": "stream",
     "text": [
      "Number of WGD pairs:  113\n",
      "Number of SSD pairs:  417\n"
     ]
    }
   ],
   "source": [
    "pre_2R_clades = ['Bilateria', 'Chordata', 'Eumetazoa', 'Vertebrata', 'Nephrozoa', 'Olphactores']\n",
    "\n",
    "def all_clades_in_pre2R(mirna):\n",
    "    clades = mirna_lno_dict.get(mirna, [])\n",
    "    return all(clade in pre_2R_clades for clade in clades)\n",
    "\n",
    "if remove_SSD_pre_2R:\n",
    "\tdf_ssd_lca = df_ssd_lca[~(df_ssd_lca[\"miRNA_1\"].apply(all_clades_in_pre2R) & df_ssd_lca[\"miRNA_2\"].apply(all_clades_in_pre2R))]\n",
    "      \n",
    "if keep_SSD_pre_2R:\n",
    "\tdf_ssd_lca = df_ssd_lca[df_ssd_lca[\"miRNA_1\"].apply(all_clades_in_pre2R) | df_ssd_lca[\"miRNA_2\"].apply(all_clades_in_pre2R)]\n",
    "\n",
    "print(\"Number of WGD pairs: \", len(df_wgd_lca))\n",
    "print(\"Number of SSD pairs: \", len(df_ssd_lca))"
   ]
  },
  {
   "cell_type": "code",
   "execution_count": null,
   "id": "497df402",
   "metadata": {},
   "outputs": [],
   "source": [
    "def remove_mirna_pairs(df1, df2):\n",
    "\t\"\"\"\n",
    "\tRemoves from df1 all rows whose (miRNA_1, miRNA_2) pairs (regardless of order)\n",
    "\tare present in df2.\n",
    "\t\"\"\"\n",
    "\t# Create a set of tuples for the miRNA pairs in df2\n",
    "\tmirna_pairs = set()\n",
    "\tfor _, row in df2.iterrows():\n",
    "\t\tmirna1 = row['miRNA_1']\n",
    "\t\tmirna2 = row['miRNA_2']\n",
    "\t\tif mirna1 != mirna2:\n",
    "\t\t\tmirna_pairs.add(tuple(sorted([mirna1, mirna2])))\n",
    "\n",
    "\t# Filter df1 to remove rows with miRNA pairs present in df2\n",
    "\tfiltered_df = df1[~df1.apply(lambda row: tuple(sorted([row['miRNA_1'], row['miRNA_2']])) in mirna_pairs, axis=1)]\n",
    "\t\n",
    "\treturn filtered_df\n",
    "\n",
    "df_ssd_lca = remove_mirna_pairs(df_ssd_lca, df_wgd_lca)"
   ]
  },
  {
   "cell_type": "code",
   "execution_count": 161,
   "id": "fcb22d37",
   "metadata": {},
   "outputs": [
    {
     "name": "stdout",
     "output_type": "stream",
     "text": [
      "Number of WGD pairs after removing miRNA pairs:  113\n",
      "Number of SSD pairs after removing miRNA pairs:  402\n"
     ]
    }
   ],
   "source": [
    "print(\"Number of WGD pairs after removing miRNA pairs: \", len(df_wgd_lca))\n",
    "print(\"Number of SSD pairs after removing miRNA pairs: \", len(df_ssd_lca))"
   ]
  },
  {
   "cell_type": "code",
   "execution_count": 162,
   "id": "dbb28c11",
   "metadata": {},
   "outputs": [],
   "source": [
    "# if the column Z-score is equal to \"sigma_err\" and the column \"n_relevant_bifan\" is equal to 0, then the Z-score is equal to 0\n",
    "def remove_sigma_err(df):\n",
    "    # Step 1: Set Z-score to 0 if Z-score == 'sigma_err' and n_relevant_bifan == 0\n",
    "    mask_fix = (df['Z-score'] == 'sigma_err') & (df['n_relevant_bifan'] == 0)\n",
    "    df.loc[mask_fix, 'Z-score'] = 0\n",
    "\n",
    "    # Step 2: Remove rows where Z-score == 'sigma_err' and n_relevant_bifan != 0\n",
    "    mask_remove = (df['Z-score'] == 'sigma_err') & (df['n_relevant_bifan'] != 0)\n",
    "    df = df[~mask_remove]\n",
    "\n",
    "    return df\n",
    "\n",
    "df_wgd_lca = remove_sigma_err(df_wgd_lca)\n",
    "df_ssd_lca = remove_sigma_err(df_ssd_lca)"
   ]
  },
  {
   "cell_type": "code",
   "execution_count": null,
   "id": "0d1455b5",
   "metadata": {},
   "outputs": [],
   "source": [
    "df_wgd_lca_zscores = df_wgd_lca['Z-score'].astype(float)\n",
    "df_ssd_lca_zscores = df_ssd_lca['Z-score'].astype(float)\n",
    "\n",
    "df_wgd_lca_nbifan = df_wgd_lca['n_relevant_bifan'].astype(int)\n",
    "df_ssd_lca_nbifan = df_ssd_lca['n_relevant_bifan'].astype(int)"
   ]
  },
  {
   "cell_type": "code",
   "execution_count": 165,
   "id": "68b6cc39",
   "metadata": {},
   "outputs": [
    {
     "name": "stdout",
     "output_type": "stream",
     "text": [
      "n_wgd in the boxplot:  113\n",
      "n_ssd in the boxplot:  416\n"
     ]
    }
   ],
   "source": [
    "n_wgd = len(df_wgd_lca_zscores)\n",
    "n_ssd = len(df_ssd_lca_zscores)\n",
    "\n",
    "print(\"n_wgd in the boxplot: \", n_wgd)\n",
    "print(\"n_ssd in the boxplot: \", n_ssd)"
   ]
  },
  {
   "cell_type": "code",
   "execution_count": 166,
   "id": "ff6a544f",
   "metadata": {},
   "outputs": [
    {
     "data": {
      "image/png": "[encoded data removed]",
      "text/plain": [
       "<Figure size 1200x800 with 1 Axes>"
      ]
     },
     "metadata": {},
     "output_type": "display_data"
    }
   ],
   "source": [
    "data = [df_wgd_lca_zscores, df_ssd_lca_zscores]\n",
    "positions = [0, 1]\n",
    "colors = ['royalblue', 'orange']\n",
    "\n",
    "plt.figure(figsize=(12, 8))\n",
    "\n",
    "box = plt.boxplot(data, \n",
    "                  positions=positions, \n",
    "                  widths=0.4,\n",
    "                  patch_artist=True, \n",
    "                  showfliers=False)\n",
    "\n",
    "for patch, color in zip(box['boxes'], colors):\n",
    "    patch.set_facecolor(color)\n",
    "    patch.set_edgecolor('black')\n",
    "    patch.set_linewidth(2)\n",
    "    patch.set_alpha(0.4)\n",
    "    \n",
    "for element in ['whiskers', 'caps']:\n",
    "    for line in box[element]:\n",
    "        line.set_linewidth(2)\n",
    "        line.set_color('black')\n",
    "        \n",
    "for element in ['medians']:\n",
    "    for line in box[element]:\n",
    "        line.set_linewidth(3)\n",
    "        line.set_color('firebrick')\n",
    "\n",
    "for i, (scores, color) in enumerate(zip(data, colors)):\n",
    "    jittered_x = np.random.normal(loc=positions[i], scale=0.05, size=len(scores))\n",
    "    plt.scatter(jittered_x, scores, alpha=0.5, color=color, linewidth=0.2, label=['', ''][i])\n",
    "\n",
    "plt.xticks(positions, [' ', ' '], fontsize=100)\n",
    "plt.ylim(-3, 63)\n",
    "plt.grid(True, linestyle='--', alpha=0.5)\n",
    "plt.tick_params(axis='both', which='major', labelsize=12)\n",
    "plt.tight_layout()\n",
    "plt.savefig(f'../../local/pictures/{network}_{target_homology}_bifan_boxplot_zscores_mgdbSSD_{s}.png', dpi=300)\n",
    "plt.show()"
   ]
  },
  {
   "cell_type": "code",
   "execution_count": 167,
   "id": "b2b7ec1d",
   "metadata": {},
   "outputs": [
    {
     "name": "stdout",
     "output_type": "stream",
     "text": [
      "KS statistic: 0.6986683117767188, p-value: 1.0402109464113464e-42\n"
     ]
    }
   ],
   "source": [
    "ks_stat, ks_p_value = stats.ks_2samp(df_wgd_lca_zscores, df_ssd_lca_zscores)\n",
    "print(f\"KS statistic: {ks_stat}, p-value: {ks_p_value}\")"
   ]
  },
  {
   "cell_type": "code",
   "execution_count": 168,
   "id": "87089f55",
   "metadata": {},
   "outputs": [
    {
     "data": {
      "image/png": "[encoded data removed]",
      "text/plain": [
       "<Figure size 1000x600 with 1 Axes>"
      ]
     },
     "metadata": {},
     "output_type": "display_data"
    }
   ],
   "source": [
    "labels = ['n=0', 'n≥1']\n",
    "\n",
    "def bin_bifans(count):\n",
    "    if count == 0:\n",
    "        return labels[0]\n",
    "    else:\n",
    "        return labels[1]\n",
    "\n",
    "# Bin the counts\n",
    "wgd_binned = pd.Series(df_wgd_lca_nbifan).apply(bin_bifans)\n",
    "ssd_binned = pd.Series(df_ssd_lca_nbifan).apply(bin_bifans)\n",
    "\n",
    "# Get relative frequencies for each bin\n",
    "wgd_freq = wgd_binned.value_counts(normalize=True).reindex(labels, fill_value=0)\n",
    "ssd_freq = ssd_binned.value_counts(normalize=True).reindex(labels, fill_value=0)\n",
    "\n",
    "x = np.arange(len(labels))\n",
    "width = 0.4\n",
    "\n",
    "plt.figure(figsize=(10, 6))\n",
    "plt.bar(x - width/2, wgd_freq, width=width, label='WGD', alpha=0.7)\n",
    "plt.bar(x + width/2, ssd_freq, width=width, label='SSD', alpha=0.7)\n",
    "\n",
    "plt.xticks(x, labels, fontsize=25)\n",
    "plt.xlabel('')\n",
    "plt.title('')\n",
    "plt.legend(fontsize=25)\n",
    "plt.grid(axis='y', linestyle='--', alpha=0.5)\n",
    "plt.tight_layout()\n",
    "plt.savefig(f'../../local/pictures/{network}_{target_homology}_bifan_barplot_zscores_mgdbSSD.png', dpi=300)\n",
    "plt.show()"
   ]
  }
 ],
 "metadata": {
  "kernelspec": {
   "display_name": "OhnomirnaEnv",
   "language": "python",
   "name": "python3"
  },
  "language_info": {
   "codemirror_mode": {
    "name": "ipython",
    "version": 3
   },
   "file_extension": ".py",
   "mimetype": "text/x-python",
   "name": "python",
   "nbconvert_exporter": "python",
   "pygments_lexer": "ipython3",
   "version": "3.10.13"
  }
 },
 "nbformat": 4,
 "nbformat_minor": 5
}
